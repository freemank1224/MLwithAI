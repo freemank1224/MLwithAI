{
 "cells": [
  {
   "cell_type": "markdown",
   "metadata": {},
   "source": [
    "# Q-learning \n",
    "> 这个例子将实现一个简单的Q-learning算法来解决一个小型的网格世界导航问题。\n",
    "### 问题描述\n",
    "我们将创建一个简单的网格世界环境，其中一个智能体需要学习如何从起点导航到目标点。\n",
    "#### 环境描述：\n",
    "1. 环境是一个 n x n 的网格世界（例如 5x5）。\n",
    "2. 网格中有一个起点（例如左上角）和一个目标点（例如右下角）。\n",
    "3. 网格中可能存在一些障碍物，智能体不能穿过这些障碍物。\n",
    "#### 智能体的动作：\n",
    "智能体在每个时间步可以采取四个动作之一：上、下、左、右。\n",
    "#### 奖励设置：\n",
    "1. 到达目标点：获得大的正奖励（例如 +1）\n",
    "2. 撞到障碍物或尝试离开网格：获得负奖励（例如 -1）\n",
    "3. 每一步移动：小的负奖励（例如 -0.01），以鼓励智能体寻找最短路径\n",
    "#### 目标：\n",
    "智能体的目标是学习一个最优策略，使其能够从起点以最少的步数到达目标点，同时避开障碍物。\n",
    "#### 学习算法：\n",
    "我们可以使用Q-learning算法来解决这个问题。Q-learning是一种无模型的强化学习算法，它通过学习动作-价值函数（Q函数）来找到最优策略。"
   ]
  },
  {
   "cell_type": "markdown",
   "metadata": {},
   "source": [
    "### 0. 导入必要的库"
   ]
  },
  {
   "cell_type": "code",
   "execution_count": null,
   "metadata": {},
   "outputs": [],
   "source": [
    "import numpy as np\n",
    "import matplotlib.pyplot as plt\n",
    "%matplotlib inline"
   ]
  },
  {
   "cell_type": "markdown",
   "metadata": {},
   "source": [
    "### 1. 定义网格世界和Q-learning的参数"
   ]
  },
  {
   "cell_type": "code",
   "execution_count": null,
   "metadata": {},
   "outputs": [],
   "source": [
    "# 定义网格世界的大小\n",
    "grid_size = 5\n",
    "\n",
    "# 定义动作空间\n",
    "actions = ['up', 'right', 'down', 'left']\n",
    "\n",
    "# 初始化Q表\n",
    "Q = np.zeros((grid_size, grid_size, len(actions)))\n",
    "\n",
    "# 定义学习参数\n",
    "alpha = 0.1  # 学习率\n",
    "gamma = 0.9  # 折扣因子\n",
    "epsilon = 0.1  # 探索率\n",
    "\n",
    "# 定义奖励\n",
    "goal_state = (grid_size-1, grid_size-1)\n",
    "goal_reward = 1\n",
    "step_reward = -0.01"
   ]
  },
  {
   "cell_type": "markdown",
   "metadata": {},
   "source": [
    "### 2. 定义辅助函数\n",
    "#### 状态转移函数实现方法：\n",
    "1. 参数：\n",
    "- `state`：一个元组，表示智能体当前的位置（x, y）。\n",
    "- `action`：一个字符串，表示智能体想要移动的方向（'up'、'right'、'down'、'left'）。\n",
    "2. 功能：\n",
    "函数根据智能体的当前状态和所选择的动作来计算新的位置。\n",
    "使用 `max` 和 `min` 函数来确保智能体不会移动出网格的边界。例如：\n",
    "如果智能体在最上面一行，尝试向上移动时，它的y坐标不会小于0，保持在最上面一行。\n",
    "如果智能体在最右边一列，尝试向右移动时，它的x坐标不会超过网格的最大值（`grid_size-1`）。\n",
    "\n",
    "#### 贪心算法具体解释：\n",
    "1. 参数：\n",
    "- `state`：当前状态，表示智能体在网格中的位置。\n",
    "- `epsilon`：一个介于0和1之间的值，表示探索的概率。\n",
    "2. 功能：\n",
    "该函数通过随机数生成来决定智能体的动作：\n",
    "- 探索（Exploration）：如果生成的随机数小于epsilon，智能体会随机选择一个动作。这种方式允许智能体尝试新的动作，以发现可能更好的策略。\n",
    "- 利用（Exploitation）：如果生成的随机数大于或等于epsilon，智能体会选择当前状态下Q值最大的动作，即选择它认为最优的动作。这种方式利用了智能体已经学到的知识。\n",
    "\n",
    "**总结：**\n",
    "这段代码通过结合探索和利用的策略，使得智能体在学习过程中既能尝试新的动作（探索），又能利用已有的知识（利用），从而更有效地学习到最优策略。"
   ]
  },
  {
   "cell_type": "code",
   "execution_count": 1,
   "metadata": {},
   "outputs": [
    {
     "data": {
      "image/png": "[encoded data removed]",
      "text/plain": [
       "<Figure size 640x480 with 2 Axes>"
      ]
     },
     "metadata": {},
     "output_type": "display_data"
    },
    {
     "name": "stdout",
     "output_type": "stream",
     "text": [
      "Optimal path: [(0, 0), (1, 0), (1, 1), (1, 2), (2, 2), (3, 2), (3, 3), (3, 4), (4, 4)]\n"
     ]
    }
   ],
   "source": [
    "# 定义获取下一个状态的函数\n",
    "def get_next_state(state, action):\n",
    "    x, y = state\n",
    "    if action == 'up':\n",
    "        return (max(x-1, 0), y)\n",
    "    elif action == 'right':\n",
    "        return (x, min(y+1, grid_size-1))\n",
    "    elif action == 'down':\n",
    "        return (min(x+1, grid_size-1), y)\n",
    "    elif action == 'left':\n",
    "        return (x, max(y-1, 0))\n",
    "\n",
    "# 定义ε-贪心策略\n",
    "def epsilon_greedy(state, epsilon):\n",
    "    if np.random.random() < epsilon:\n",
    "        return np.random.choice(actions)\n",
    "    else:\n",
    "        return actions[np.argmax(Q[state])]\n",
    "\n",
    "\n",
    "# 训练函数\n",
    "def train(episodes):\n",
    "    for _ in range(episodes):\n",
    "        state = (0, 0)  # 起始状态\n",
    "        while state != goal_state:\n",
    "            action = epsilon_greedy(state, epsilon)\n",
    "            next_state = get_next_state(state, action)\n",
    "            reward = goal_reward if next_state == goal_state else step_reward\n",
    "            \n",
    "            # Q-learning更新公式\n",
    "            Q[state][actions.index(action)] += alpha * (reward + gamma * np.max(Q[next_state]) - Q[state][actions.index(action)])\n",
    "            \n",
    "            state = next_state\n",
    "\n",
    "# 训练模型\n",
    "train(1000)\n",
    "\n",
    "# 可视化Q表\n",
    "plt.imshow(np.max(Q, axis=2), cmap='hot', interpolation='nearest')\n",
    "plt.colorbar()\n",
    "plt.title('Q-values')\n",
    "plt.show()\n",
    "\n",
    "# 展示最优路径\n",
    "def show_optimal_path():\n",
    "    state = (0, 0)\n",
    "    path = [state]\n",
    "    while state != goal_state:\n",
    "        action = actions[np.argmax(Q[state])]\n",
    "        state = get_next_state(state, action)\n",
    "        path.append(state)\n",
    "    return path\n",
    "\n",
    "optimal_path = show_optimal_path()\n",
    "print(\"Optimal path:\", optimal_path)"
   ]
  },
  {
   "cell_type": "markdown",
   "metadata": {},
   "source": [
    "### 3. 定义Q-learning的训练函数\n",
    "Q值（Q-value）是Q-learning算法中的一个核心概念，它表示在给定状态下采取某个特定动作的预期收益。Q值的更新和计算是通过智能体在环境中与环境交互的过程来实现的。以下是Q值的来源和计算过程的简要说明：\n",
    "Q值的来源：\n",
    "1. 初始化：\n",
    "在开始时，Q表（Q-table）通常被初始化为零或小的随机值。Q表的维度是状态空间和动作空间的组合，表示每个状态-动作对的Q值。\n",
    "2. 与环境的交互：\n",
    "智能体在环境中进行训练时，它会从起始状态开始，选择一个动作（根据ε-贪心策略），然后执行该动作，观察到下一个状态和获得的奖励。\n",
    "3. Q值更新：\n",
    "Q值的更新是通过以下公式实现的：\n",
    "\n",
    "$Q(s,a)←Q(s,a)+α(r+γmax_a Q(s',a')-Q(s,a))$ \n",
    "其中，\n",
    "- $Q(s,a)$ 是状态 $s$ 下采取动作 $a$ 的Q值。\n",
    "- $α$ 是学习率，决定了新信息覆盖旧信息的程度。\n",
    "- $r$ 是智能体在状态 $s$ 下采取动作 $a$ 后获得的奖励。\n",
    "- $γ$ 是折扣因子，决定了未来奖励的重要性。\n",
    "- $max_a Q(s',a')$ 是在下一个状态 $s'$ 下所有可能动作的Q值的最大值。\n",
    "\n",
    "4. 迭代学习：\n",
    "通过多次训练（多个回合），智能体不断更新Q值，逐渐学习到在不同状态下采取不同动作的预期收益，从而形成一个完整的Q表。\n",
    "总结：\n",
    "Q值是通过智能体与环境的交互过程不断更新和学习得来的，反映了在特定状态下采取某个动作的长期预期收益。随着训练的进行，Q值会逐渐收敛到真实的价值，帮助智能体做出更优的决策。Q值（Q-value）是Q-learning算法中的一个核心概念，它表示在给定状态下采取某个特定动作的预期收益。Q值的更新和计算是通过智能体在环境中与环境交互的过程来实现的。以下是Q值的来源和计算过程的简要说明：\n",
    "Q值的来源：\n",
    "1. 初始化：\n",
    "在开始时，Q表（Q-table）通常被初始化为零或小的随机值。Q表的维度是状态空间和动作空间的组合，表示每个状态-动作对的Q值。\n",
    "2. 与环境的交互：\n",
    "智能体在环境中进行训练时，它会从起始状态开始，选择一个动作（根据ε-贪心策略），然后执行该动作，观察到下一个状态和获得的奖励。\n",
    "3. Q值更新：\n",
    "Q值的更新是通过以下公式实现的：\n",
    "4. 迭代学习：\n",
    "通过多次训练（多个回合），智能体不断更新Q值，逐渐学习到在不同状态下采取不同动作的预期收益，从而形成一个完整的Q表。\n",
    "总结：\n",
    "Q值是通过智能体与环境的交互过程不断更新和学习得来的，反映了在特定状态下采取某个动作的长期预期收益。随着训练的进行，Q值会逐渐收敛到真实的价值，帮助智能体做出更优的决策。Q值（Q-value）是Q-learning算法中的一个核心概念，它表示在给定状态下采取某个特定动作的预期收益。Q值的更新和计算是通过智能体在环境中与环境交互的过程来实现的。以下是Q值的来源和计算过程的简要说明：\n",
    "Q值的来源：\n",
    "1. 初始化：\n",
    "在开始时，Q表（Q-table）通常被初始化为零或小的随机值。Q表的维度是状态空间和动作空间的组合，表示每个状态-动作对的Q值。\n",
    "2. 与环境的交互：\n",
    "智能体在环境中进行训练时，它会从起始状态开始，选择一个动作（根据ε-贪心策略），然后执行该动作，观察到下一个状态和获得的奖励。\n",
    "3. Q值更新：\n",
    "Q值的更新是通过以下公式实现的：\n",
    "$Q(s,a)←Q(s,a)+α(r+γmax_a Q(s',a'))$ \n",
    "4. 迭代学习：\n",
    "通过多次训练（多个回合），智能体不断更新Q值，逐渐学习到在不同状态下采取不同动作的预期收益，从而形成一个完整的Q表。\n",
    "总结：\n",
    "Q值是通过智能体与环境的交互过程不断更新和学习得来的，反映了在特定状态下采取某个动作的长期预期收益。随着训练的进行，Q值会逐渐收敛到真实的价值，帮助智能体做出更优的决策。Q值（Q-value）是Q-learning算法中的一个核心概念，它表示在给定状态下采取某个特定动作的预期收益。Q值的更新和计算是通过智能体在环境中与环境交互的过程来实现的。以下是Q值的来源和计算过程的简要说明：\n",
    "Q值的来源：\n",
    "1. 初始化：\n",
    "在开始时，Q表（Q-table）通常被初始化为零或小的随机值。Q表的维度是状态空间和动作空间的组合，表示每个状态-动作对的Q值。\n",
    "2. 与环境的交互：\n",
    "智能体在环境中进行训练时，它会从起始状态开始，选择一个动作（根据ε-贪心策略），然后执行该动作，观察到下一个状态和获得的奖励。\n",
    "3. Q值更新：\n",
    "Q值的更新是通过以下公式实现的：\n",
    "$Q(s,a)←Q(s,a)+α(r+γmax_a Q(s',a')$ \n",
    "4. 迭代学习：\n",
    "通过多次训练（多个回合），智能体不断更新Q值，逐渐学习到在不同状态下采取不同动作的预期收益，从而形成一个完整的Q表。\n",
    "总结：\n",
    "Q值是通过智能体与环境的交互过程不断更新和学习得来的，反映了在特定状态下采取某个动作的长期预期收益。随着训练的进行，Q值会逐渐收敛到真实的价值，帮助智能体做出更优的决策。"
   ]
  },
  {
   "cell_type": "code",
   "execution_count": null,
   "metadata": {},
   "outputs": [],
   "source": [
    "# 训练函数\n",
    "def train(episodes):\n",
    "    for _ in range(episodes):\n",
    "        state = (0, 0)  # 起始状态\n",
    "        while state != goal_state:\n",
    "            action = epsilon_greedy(state, epsilon)\n",
    "            next_state = get_next_state(state, action)\n",
    "            reward = goal_reward if next_state == goal_state else step_reward\n",
    "            \n",
    "            # Q-learning更新公式\n",
    "            Q[state][actions.index(action)] += alpha * (reward + gamma * np.max(Q[next_state]) - Q[state][actions.index(action)])\n",
    "            \n",
    "            state = next_state\n",
    "\n",
    "# 训练模型\n",
    "train(1000)"
   ]
  },
  {
   "cell_type": "code",
   "execution_count": null,
   "metadata": {},
   "outputs": [],
   "source": []
  }
 ],
 "metadata": {
  "kernelspec": {
   "display_name": "ai4u",
   "language": "python",
   "name": "python3"
  },
  "language_info": {
   "codemirror_mode": {
    "name": "ipython",
    "version": 3
   },
   "file_extension": ".py",
   "mimetype": "text/x-python",
   "name": "python",
   "nbconvert_exporter": "python",
   "pygments_lexer": "ipython3",
   "version": "3.8.16"
  }
 },
 "nbformat": 4,
 "nbformat_minor": 2
}
