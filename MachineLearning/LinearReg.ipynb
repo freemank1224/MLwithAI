{
 "cells": [
  {
   "cell_type": "markdown",
   "metadata": {},
   "source": [
    "# 线性回归示例程序\n",
    "这里是一个单变量线性回归算法的演示程序"
   ]
  },
  {
   "cell_type": "markdown",
   "metadata": {},
   "source": [
    "### 0. 导入必要的包"
   ]
  },
  {
   "cell_type": "code",
   "execution_count": 10,
   "metadata": {},
   "outputs": [],
   "source": [
    "import numpy as np\n",
    "import matplotlib.pyplot as plt"
   ]
  },
  {
   "cell_type": "markdown",
   "metadata": {},
   "source": [
    "### 1. 生成示例数据"
   ]
  },
  {
   "cell_type": "code",
   "execution_count": 11,
   "metadata": {},
   "outputs": [],
   "source": [
    "np.random.seed(42)\n",
    "X = 2 * np.random.rand(100, 1)\n",
    "y = 4 + 3 * X + np.random.randn(100, 1)"
   ]
  },
  {
   "cell_type": "markdown",
   "metadata": {},
   "source": [
    "### 2. 初始化参数\n",
    "这里主要就是 w 和 b 的初始化，w 和 b 的初始化方式有很多，这里我们采用最简单的 0 初始化。"
   ]
  },
  {
   "cell_type": "code",
   "execution_count": 12,
   "metadata": {},
   "outputs": [],
   "source": [
    "#初始化参数\n",
    "w = 0\n",
    "b = 0\n",
    "#设置超参数\n",
    "learning_rate = 0.1\n",
    "n_iterations = 100\n",
    "#存储每次迭代的参数和损失\n",
    "w_history, b_history, loss_history = [], [], []"
   ]
  },
  {
   "cell_type": "markdown",
   "metadata": {},
   "source": [
    "### 3. 开始梯度下降算法\n",
    "\n",
    "这两行代码是计算线性回归模型中参数 w 和 b 的梯度。让我们逐步解析:\n",
    "1. 梯度的计算:\n",
    "- 这里使用的是均方误差(MSE)作为损失函数。\n",
    "- MSE 的公式是: (1/n) Σ(y_pred - y)^2，其中 n 是样本数量。\n",
    "2. 对 w 的梯度 (dw):\n",
    "- MSE 对 w 的偏导数是: (2/n) Σ(X (y_pred - y))\n",
    "- 在这个例子中, n = 100 (样本数量)\n",
    "- 所以 dw = (2/100) np.sum(X (y_pred - y))\n",
    "3. 对 b 的梯度 (db):\n",
    "- MSE 对 b 的偏导数是: (2/n) Σ(y_pred - y)\n",
    "- 同样, n = 100\n",
    "- 所以 db = (2/100) np.sum(y_pred - y)\n",
    "4. np.sum() 函数:\n",
    "- 用于计算所有样本的梯度之和\n",
    "5. (2/100) 因子:\n",
    "- 这是由损失函数的导数和样本数量决定的\n",
    "- 2 来自平方项的导数\n",
    "- 100 是样本总数"
   ]
  },
  {
   "cell_type": "code",
   "execution_count": 13,
   "metadata": {},
   "outputs": [
    {
     "name": "stdout",
     "output_type": "stream",
     "text": [
      "Iteration 1: Loss = 50.0083\n",
      "Iteration 2: Loss = 17.9354\n",
      "Iteration 3: Loss = 6.8725\n",
      "Iteration 4: Loss = 3.0497\n",
      "Iteration 5: Loss = 1.7223\n",
      "Iteration 6: Loss = 1.2554\n",
      "Iteration 7: Loss = 1.0857\n",
      "Iteration 8: Loss = 1.0189\n",
      "Iteration 9: Loss = 0.9881\n",
      "Iteration 10: Loss = 0.9703\n",
      "Iteration 11: Loss = 0.9574\n",
      "Iteration 12: Loss = 0.9466\n",
      "Iteration 13: Loss = 0.9370\n",
      "Iteration 14: Loss = 0.9283\n",
      "Iteration 15: Loss = 0.9201\n",
      "Iteration 16: Loss = 0.9125\n",
      "Iteration 17: Loss = 0.9055\n",
      "Iteration 18: Loss = 0.8989\n",
      "Iteration 19: Loss = 0.8927\n",
      "Iteration 20: Loss = 0.8870\n",
      "Iteration 21: Loss = 0.8816\n",
      "Iteration 22: Loss = 0.8766\n",
      "Iteration 23: Loss = 0.8719\n",
      "Iteration 24: Loss = 0.8676\n",
      "Iteration 25: Loss = 0.8635\n",
      "Iteration 26: Loss = 0.8597\n",
      "Iteration 27: Loss = 0.8561\n",
      "Iteration 28: Loss = 0.8528\n",
      "Iteration 29: Loss = 0.8497\n",
      "Iteration 30: Loss = 0.8469\n",
      "Iteration 31: Loss = 0.8442\n",
      "Iteration 32: Loss = 0.8417\n",
      "Iteration 33: Loss = 0.8393\n",
      "Iteration 34: Loss = 0.8371\n",
      "Iteration 35: Loss = 0.8351\n",
      "Iteration 36: Loss = 0.8332\n",
      "Iteration 37: Loss = 0.8314\n",
      "Iteration 38: Loss = 0.8298\n",
      "Iteration 39: Loss = 0.8282\n",
      "Iteration 40: Loss = 0.8268\n",
      "Iteration 41: Loss = 0.8254\n",
      "Iteration 42: Loss = 0.8242\n",
      "Iteration 43: Loss = 0.8230\n",
      "Iteration 44: Loss = 0.8219\n",
      "Iteration 45: Loss = 0.8209\n",
      "Iteration 46: Loss = 0.8199\n",
      "Iteration 47: Loss = 0.8190\n",
      "Iteration 48: Loss = 0.8182\n",
      "Iteration 49: Loss = 0.8174\n",
      "Iteration 50: Loss = 0.8167\n",
      "Iteration 51: Loss = 0.8160\n",
      "Iteration 52: Loss = 0.8154\n",
      "Iteration 53: Loss = 0.8148\n",
      "Iteration 54: Loss = 0.8143\n",
      "Iteration 55: Loss = 0.8138\n",
      "Iteration 56: Loss = 0.8133\n",
      "Iteration 57: Loss = 0.8128\n",
      "Iteration 58: Loss = 0.8124\n",
      "Iteration 59: Loss = 0.8120\n",
      "Iteration 60: Loss = 0.8117\n",
      "Iteration 61: Loss = 0.8113\n",
      "Iteration 62: Loss = 0.8110\n",
      "Iteration 63: Loss = 0.8107\n",
      "Iteration 64: Loss = 0.8104\n",
      "Iteration 65: Loss = 0.8102\n",
      "Iteration 66: Loss = 0.8099\n",
      "Iteration 67: Loss = 0.8097\n",
      "Iteration 68: Loss = 0.8095\n",
      "Iteration 69: Loss = 0.8093\n",
      "Iteration 70: Loss = 0.8091\n",
      "Iteration 71: Loss = 0.8090\n",
      "Iteration 72: Loss = 0.8088\n",
      "Iteration 73: Loss = 0.8087\n",
      "Iteration 74: Loss = 0.8085\n",
      "Iteration 75: Loss = 0.8084\n",
      "Iteration 76: Loss = 0.8083\n",
      "Iteration 77: Loss = 0.8082\n",
      "Iteration 78: Loss = 0.8080\n",
      "Iteration 79: Loss = 0.8080\n",
      "Iteration 80: Loss = 0.8079\n",
      "Iteration 81: Loss = 0.8078\n",
      "Iteration 82: Loss = 0.8077\n",
      "Iteration 83: Loss = 0.8076\n",
      "Iteration 84: Loss = 0.8076\n",
      "Iteration 85: Loss = 0.8075\n",
      "Iteration 86: Loss = 0.8074\n",
      "Iteration 87: Loss = 0.8074\n",
      "Iteration 88: Loss = 0.8073\n",
      "Iteration 89: Loss = 0.8073\n",
      "Iteration 90: Loss = 0.8072\n",
      "Iteration 91: Loss = 0.8072\n",
      "Iteration 92: Loss = 0.8071\n",
      "Iteration 93: Loss = 0.8071\n",
      "Iteration 94: Loss = 0.8071\n",
      "Iteration 95: Loss = 0.8070\n",
      "Iteration 96: Loss = 0.8070\n",
      "Iteration 97: Loss = 0.8070\n",
      "Iteration 98: Loss = 0.8070\n",
      "Iteration 99: Loss = 0.8069\n",
      "Iteration 100: Loss = 0.8069\n"
     ]
    }
   ],
   "source": [
    "for i in range(n_iterations):\n",
    "# 计算预测值\n",
    "    y_pred = w * X + b\n",
    "    # 计算梯度\n",
    "    dw = (2/100) * np.sum(X * (y_pred - y))\n",
    "    db = (2/100) * np.sum(y_pred - y)\n",
    "    # 更新参数\n",
    "    w -= learning_rate * dw\n",
    "    b -= learning_rate * db\n",
    "    # 计算损失\n",
    "    loss = np.mean((y_pred - y) ** 2)\n",
    "    # 存储历史记录\n",
    "    w_history.append(w)\n",
    "    b_history.append(b)\n",
    "    loss_history.append(loss)\n",
    "\n",
    "    print(f\"Iteration {i+1}: Loss = {loss:.4f}\")"
   ]
  },
  {
   "cell_type": "markdown",
   "metadata": {},
   "source": [
    "### 4. 绘制损失函数随迭代次数的变化\n"
   ]
  },
  {
   "cell_type": "code",
   "execution_count": 14,
   "metadata": {},
   "outputs": [
    {
     "data": {
      "image/png": "[encoded data removed]",
      "text/plain": [
       "<Figure size 1000x500 with 2 Axes>"
      ]
     },
     "metadata": {},
     "output_type": "display_data"
    },
    {
     "name": "stdout",
     "output_type": "stream",
     "text": [
      "Final Parameters: w = 2.80, b = 4.18\n"
     ]
    }
   ],
   "source": [
    "#绘制损失函数随迭代次数的变化\n",
    "plt.figure(figsize=(10, 5))\n",
    "plt.subplot(121)\n",
    "plt.plot(loss_history)\n",
    "plt.title('Loss Function')\n",
    "plt.xlabel('Iterations')\n",
    "plt.ylabel('Loss')\n",
    "#绘制最终的拟合线\n",
    "plt.subplot(122)\n",
    "plt.scatter(X, y, alpha=0.5)\n",
    "plt.plot(X, w * X + b, color='r', linewidth=2)\n",
    "plt.title('Final Fit Result')\n",
    "plt.xlabel('X')\n",
    "plt.ylabel('y')\n",
    "plt.tight_layout()\n",
    "plt.show()\n",
    "print(f\"Final Parameters: w = {w:.2f}, b = {b:.2f}\")"
   ]
  }
 ],
 "metadata": {
  "kernelspec": {
   "display_name": "d2l",
   "language": "python",
   "name": "python3"
  },
  "language_info": {
   "codemirror_mode": {
    "name": "ipython",
    "version": 3
   },
   "file_extension": ".py",
   "mimetype": "text/x-python",
   "name": "python",
   "nbconvert_exporter": "python",
   "pygments_lexer": "ipython3",
   "version": "3.9.19"
  }
 },
 "nbformat": 4,
 "nbformat_minor": 2
}
